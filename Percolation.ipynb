{
  "nbformat": 4,
  "nbformat_minor": 0,
  "metadata": {
    "colab": {
      "name": "Percolation.ipynb",
      "provenance": [],
      "collapsed_sections": [],
      "machine_shape": "hm"
    },
    "kernelspec": {
      "name": "python3",
      "display_name": "Python 3"
    }
  },
  "cells": [
    {
      "cell_type": "code",
      "metadata": {
        "id": "kw13NlmcRfpK",
        "colab_type": "code",
        "outputId": "fcbbd950-1cd4-492c-891e-a91423efe775",
        "colab": {
          "base_uri": "https://localhost:8080/",
          "height": 295
        }
      },
      "source": [
        "import numpy as np\n",
        "import matplotlib.pyplot as plt\n",
        "from random import random\n",
        "\n",
        "L=10\n",
        "N=L**2\n",
        "empty=-N-1\n",
        "\n",
        "ptr=np.zeros(N, dtype=int)              # array of pointers\n",
        "nn=np.zeros((N, 4), dtype=int)          # nearest neighbors\n",
        "order=np.zeros(N, dtype=int)            # occupation order\n",
        "\n",
        "def boundaries():\n",
        "        for i in range(N):\n",
        "              nn[i, 0]=(i+1)%N\n",
        "              nn[i, 1]=(i+N-1)%N\n",
        "              nn[i, 2]=(i+L)%N\n",
        "              nn[i, 3]=(i+N-L)%N\n",
        "              if i%L==0: \n",
        "                    nn[i, 1]=i+L-1\n",
        "              if (i+1)%L==0:\n",
        "                    nn[i, 0]=i-L+1\n",
        "\n",
        "def permutation():\n",
        "        j=0\n",
        "        temp=0\n",
        "        for i in range(N):\n",
        "              order[i]=i\n",
        "              for i in range(N):\n",
        "                    j=int(i+(N-i)*random())\n",
        "                    temp=np.copy(order[i])\n",
        "                    order[i]=order[j]\n",
        "                    order[j]=temp\n",
        "\n",
        "def findroot(i):\n",
        "        k=j=i\n",
        "        while ptr[k]>0:\n",
        "            ptr[j]=np.copy(ptr[k])\n",
        "            j=k\n",
        "            k=ptr[k]\n",
        "        return k\n",
        "\n",
        "def percolate():\n",
        "        big=0\n",
        "        X=[]\n",
        "        Y=[]\n",
        "        for i in range(N): \n",
        "              ptr[i]=empty\n",
        "        for i in range(N):\n",
        "              r1=s1=np.copy(order[i])\n",
        "              ptr[s1]=-1    \n",
        "              for j in range(4):\n",
        "                    s2=np.copy(nn[s1, j])\n",
        "                    if ptr[s2] != empty:\n",
        "                          r2=findroot(s2)\n",
        "                          if (r2!=r1):\n",
        "                                if ptr[r1]>ptr[r2]:\n",
        "                                       ptr[r2]=ptr[r2]+ptr[r1]\n",
        "                                       ptr[r1]=r2\n",
        "                                       r1=np.copy(r2)\n",
        "                                else:\n",
        "                                       ptr[r1]=ptr[r1]+ptr[r2]\n",
        "                                       ptr[r2]=r1\n",
        "                                if -ptr[r1]>big: \n",
        "                                       big=-np.copy(ptr[r1])\n",
        "              X+=[(i+1.)/N, ]\n",
        "              Y+=[big, ]\n",
        "        plt.plot(X, Y, '-')\n",
        "        plt.xlabel(\"Percolation Probability\")\n",
        "        plt.ylabel(\"Size of the largest cluster\")\n",
        "        plt.title(\"N = 10^2\")\n",
        "        plt.show()\n",
        "\n",
        "boundaries()\n",
        "permutation()\n",
        "percolate()"
      ],
      "execution_count": 0,
      "outputs": [
        {
          "output_type": "display_data",
          "data": {
            "image/png": "[encoded data removed]",
            "text/plain": [
              "<Figure size 432x288 with 1 Axes>"
            ]
          },
          "metadata": {
            "tags": []
          }
        }
      ]
    },
    {
      "cell_type": "code",
      "metadata": {
        "id": "E9D2VwmhXZTp",
        "colab_type": "code",
        "outputId": "ab378ae7-0ff9-423e-c24a-5e6011b01497",
        "colab": {
          "base_uri": "https://localhost:8080/",
          "height": 337
        }
      },
      "source": [
        "import matplotlib.pyplot as plt\n",
        "from networkx import nx\n",
        "import random\n",
        "\n",
        "class Cluster:\n",
        "      def __init__(self, size, nodes, label):\n",
        "        self.size = size; #size of the cluster: size = int\n",
        "        self.nodes = nodes; #nodes in the cluster: nodes = set()  (a set)\n",
        "        self.label = label; #label of a cluster: label = int (c)\n",
        "\n",
        "#1. Start with an empty network with no occupied vertices. Let c = 0 be the number of clusters\n",
        "#in the network initially. Choose at random an order in which the vertices will be added to\n",
        "#the network.\n",
        "N = 10**3;\n",
        "G = nx.fast_gnp_random_graph(N, 0.01, seed=None, directed=False)\n",
        "print(\"empty network created\")\n",
        "#print(\"node neighbors\")\n",
        "#for n in G.nodes:\n",
        "#     print(\"node:\", n);\n",
        "#     print(\"neighbors:\");\n",
        "#     for i in G.neighbors(n):\n",
        "#          print(i);\n",
        "\n",
        "#nx.draw(G)\n",
        "#plt.show()"
      ],
      "execution_count": 0,
      "outputs": [
        {
          "output_type": "stream",
          "text": [
            "empty network created\n"
          ],
          "name": "stdout"
        },
        {
          "output_type": "display_data",
          "data": {
            "image/png": "[encoded data removed]",
            "text/plain": [
              "<Figure size 432x288 with 1 Axes>"
            ]
          },
          "metadata": {
            "tags": []
          }
        }
      ]
    },
    {
      "cell_type": "code",
      "metadata": {
        "id": "Tm_tN3Pug73H",
        "colab_type": "code",
        "outputId": "28749480-d0c8-41f5-d8c1-61e56c46e566",
        "colab": {
          "base_uri": "https://localhost:8080/",
          "height": 295
        }
      },
      "source": [
        "#2. Add the next vertex in the chosen order, initially with no edges. This vertex is a cluster in\n",
        "#its own right, so increase c by one and label the vertex with label c to indicate which cluster\n",
        "#it belongs to. Also make a note that cluster c has size 1.\n",
        "orders = list(range(0,N))\n",
        "random.shuffle(orders) #list of random orders\n",
        "c = 0\n",
        "largest = 0\n",
        "clusters = {}; # a dictionary with {...label -> Cluster(size, nodes, label)...}\n",
        "nodes = set() # nodes added\n",
        "edges = set() # edges added\n",
        "attrs = {\"added\":False,'label':0}\n",
        "nodes_attrs = {i:attrs for i in range(N)}\n",
        "nx.set_node_attributes(G, nodes_attrs)\n",
        "#3. Go through the edges attached to this vertex one by one. For each edge determine whether\n",
        "#the vertex at the other end has already been added to the network. If it has, add the edge to\n",
        "#the network.\n",
        "#4. As each edge is added, examine the cluster labels of the vertices at either end. If they are\n",
        "#the same, do nothing. If they are different, choose one of the clusters and relabel all its\n",
        "#vertices to have the same label as the other cluster. Update the record of the size of the\n",
        "#cluster to be equal to the sum of the sizes of the two clusters from which it was formed.\n",
        "#5. Repeat from step 2 until all vertices have been added.\n",
        "X=[]\n",
        "Y=[]\n",
        "for i in range(N): \n",
        "      X +=[i,]\n",
        "      c += 1;                             # increase c\n",
        "      n = orders[i];                      # the node chosen from random order -- nth node\n",
        "      nclus = Cluster(1, set([n]), c)     # starting cluster -- itself, size 1\n",
        "      nodes.add(n);                       # add the chosen node to node added\n",
        "      G.nodes[n]['added'] = True;         # mark the node added\n",
        "      G.nodes[n]['label'] = c;            # mark the node's label as c\n",
        "      neighbor_added = False;\n",
        "      for neighbor in G.neighbors(n):     # search through neighbors\n",
        "         #print(\"the node\", n);\n",
        "         #print(\"this neighbor\",neighbor);\n",
        "         #print(nodes);\n",
        "          if G.nodes[neighbor][\"added\"] == True:           # if the neighbor is added\n",
        "                neighbor_added = True;\n",
        "               #print(\"yes\")\n",
        "               #print(G.nodes[neighbor])\n",
        "                edge1 = (n, neighbor);\n",
        "                edge2 = (neighbor,n );\n",
        "                edges.add(edge1);\n",
        "                edges.add(edge2);                                         # add the edge to the neighbor\n",
        "                if G.nodes[neighbor]['label'] != c:                   # if the labels aren't the same \n",
        "                       neighbor_label = G.nodes[neighbor]['label']         # neighbors' label  \n",
        "                       union = nclus.nodes.union(clusters[neighbor_label].nodes)\n",
        "                       nclus.nodes = union;\n",
        "                       for neighbor_set_node in clusters[neighbor_label].nodes: \n",
        "                              G.nodes[neighbor_set_node]['label'] = c;\n",
        "                       del clusters[neighbor_label]\n",
        "                       clusters[c] = nclus\n",
        "                       nclus.size = len(nclus.nodes);\n",
        "                       if nclus.size > largest:\n",
        "                          largest = nclus.size        # update largest if cluster of neighbor's label is the largest\n",
        "      if neighbor_added == False:\n",
        "          clusters[c] = nclus\n",
        "          if largest == 0:\n",
        "               largest = 1\n",
        "      Y += [largest,]\n",
        "     #print(\"NODE\");\n",
        "     #print (n);\n",
        "     #print (G.nodes[n]);\n",
        "     #print (clusters)\n",
        "     #for key in clusters:\n",
        "     #   print(\"label:\", key)\n",
        "     #   print(\"nodes:\", clusters[key].nodes)\n",
        "     #   for n2 in clusters[key].nodes:\n",
        "     #       print(\"each-node-label:\", G.nodes[n2][\"label\"])\n",
        "     #       print(\"size:\", clusters[key].size)\n",
        "     #print(\"largest\",largest)'''\n",
        "plt.plot(X, Y, '-')\n",
        "plt.xlabel(\"Step\")\n",
        "plt.ylabel(\"Size of the largest cluster\")\n",
        "plt.title(\"N = 10^3\")\n",
        "plt.show()\n"
      ],
      "execution_count": 0,
      "outputs": [
        {
          "output_type": "display_data",
          "data": {
            "image/png": "[encoded data removed]",
            "text/plain": [
              "<Figure size 432x288 with 1 Axes>"
            ]
          },
          "metadata": {
            "tags": []
          }
        }
      ]
    },
    {
      "cell_type": "code",
      "metadata": {
        "id": "r5y_4LYazH2y",
        "colab_type": "code",
        "colab": {}
      },
      "source": [
        ""
      ],
      "execution_count": 0,
      "outputs": []
    },
    {
      "cell_type": "code",
      "metadata": {
        "id": "KVFiqaJSeiaQ",
        "colab_type": "code",
        "colab": {}
      },
      "source": [
        "'''def cluster_combine(target, to_combine):\n",
        "      label = target.label;\n",
        "      for n in to_combine.nodes:\n",
        "            G.nodes[n]['label'] = label;\n",
        "      target.nodes = target.nodes.union(to_combine.nodes);\n",
        "      target.size = len(target.nodes);\n",
        "      del clusters[to_combine.label];\n",
        "'''"
      ],
      "execution_count": 0,
      "outputs": []
    },
    {
      "cell_type": "code",
      "metadata": {
        "id": "iiznVxdaXsyV",
        "colab_type": "code",
        "colab": {}
      },
      "source": [
        "#copy\n",
        "#2. Add the next vertex in the chosen order, initially with no edges. This vertex is a cluster in\n",
        "#its own right, so increase c by one and label the vertex with label c to indicate which cluster\n",
        "#it belongs to. Also make a note that cluster c has size 1.\n",
        "orders = list(range(0,N))\n",
        "random.shuffle(orders) #list of random orders\n",
        "c = 0\n",
        "largest = 0\n",
        "clusters = {}; # a dictionary with {...label -> Cluster(size, nodes, label)...}\n",
        "nodes = set() # nodes added\n",
        "edges = set() # edges added\n",
        "attrs = {\"added\":False,'label':0}\n",
        "nodes_attrs = {i:attrs for i in range(N)}\n",
        "nx.set_node_attributes(G, nodes_attrs)\n",
        "#3. Go through the edges attached to this vertex one by one. For each edge determine whether\n",
        "#the vertex at the other end has already been added to the network. If it has, add the edge to\n",
        "#the network.\n",
        "#4. As each edge is added, examine the cluster labels of the vertices at either end. If they are\n",
        "#the same, do nothing. If they are different, choose one of the clusters and relabel all its\n",
        "#vertices to have the same label as the other cluster. Update the record of the size of the\n",
        "#cluster to be equal to the sum of the sizes of the two clusters from which it was formed.\n",
        "#5. Repeat from step 2 until all vertices have been added.\n",
        "\n",
        "'''def cluster_combine(target, to_combine):\n",
        "      label = target.label;\n",
        "      for n in to_combine.nodes:\n",
        "            G.nodes[n]['label'] = label;\n",
        "      target.nodes = target.nodes.union(to_combine.nodes);\n",
        "      target.size = len(target.nodes);\n",
        "      del clusters[to_combine.label];\n",
        "'''\n",
        "for i in range(N): \n",
        "      c += 1;                             # increase c\n",
        "      n = orders[i];                      # the node chosen from random order -- nth node\n",
        "      nclus = Cluster(1, set([n]), c)     # starting cluster -- itself, size 1\n",
        "      nodes.add(n);                       # add the chosen node to node added\n",
        "      G.nodes[n]['added'] = True;         # mark the node added\n",
        "      G.nodes[n]['label'] = c;            # mark the node's label as c\n",
        "      neighbor_added = False;\n",
        "      this_cluster; \n",
        "      for neighbor in G.neighbors(n):     # search through neighbors\n",
        "          print(\"the node\", n);\n",
        "          print(\"this neighbor\",neighbor);\n",
        "          print(nodes);\n",
        "          if neighbor in nodes:           # if the neighbor is added\n",
        "                neighbor_added = True;\n",
        "                print(\"yes\")\n",
        "                print(G.nodes[neighbor])\n",
        "                edge1 = (n, neighbor);\n",
        "                edge2 = (neighbor,n );\n",
        "                edges.add(edge1);\n",
        "                edges.add(edge2);                                         # add the edge to the neighbor\n",
        "                if G.nodes[neighbor]['label'] != label:                   # if the labels aren't the same \n",
        "                       neighbor_label = G.nodes[neighbor]['label']         # neighbors' label  \n",
        "                       union = nclus.nodes.union(clusters[neighbor_label].nodes)\n",
        "                       nclus.nodes = union;\n",
        "                       for neighbor_set_node in clusters[neighbor_label].nodes: \n",
        "                              G.nodes[neighbor_set_node]['label'] = c;\n",
        "                       del clusters[neighbor_label]\n",
        "                       clusters[c] = nclus\n",
        "                       nclus.size = len(nclus.nodes);\n",
        "                       if nclus.size > largest:\n",
        "                          largest = nclus.size        # update largest if cluster of neighbor's label is the largest\n",
        "\n",
        "      if neighbor_added == False:\n",
        "          clusters[c] = nclus\n",
        "      print(\"NODE\");\n",
        "      print (n);\n",
        "      print (G.nodes[n]);\n",
        "      print (clusters)\n",
        "      for key in clusters:\n",
        "        print(\"label:\", key)\n",
        "        print(\"nodes:\", clusters[key].nodes)\n",
        "        for n2 in clusters[key].nodes:\n",
        "            print(\"each-node-label:\", G.nodes[n2][\"label\"])\n",
        "        print(\"size:\", clusters[key].size)\n"
      ],
      "execution_count": 0,
      "outputs": []
    }
  ]
}