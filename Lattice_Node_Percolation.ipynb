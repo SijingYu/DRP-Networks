{
  "nbformat": 4,
  "nbformat_minor": 0,
  "metadata": {
    "colab": {
      "name": "LatticeNodePercolation.ipynb",
      "provenance": []
    },
    "kernelspec": {
      "name": "python3",
      "display_name": "Python 3"
    }
  },
  "cells": [
    {
      "cell_type": "code",
      "metadata": {
        "id": "3eJ4irlusUYt",
        "colab_type": "code",
        "colab": {
          "base_uri": "https://localhost:8080/",
          "height": 295
        },
        "outputId": "bdbca09c-68e6-44e7-e4c2-98ae705cd758"
      },
      "source": [
        "import numpy as np\n",
        "import matplotlib.pyplot as plt\n",
        "from random import random\n",
        "\n",
        "L=10\n",
        "N=L**2\n",
        "empty=-N-1\n",
        "\n",
        "ptr=np.zeros(N, dtype=int)              # array of pointers\n",
        "nn=np.zeros((N, 4), dtype=int)          # nearest neighbors\n",
        "order=np.zeros(N, dtype=int)            # occupation order\n",
        "\n",
        "def boundaries():\n",
        "        for i in range(N):\n",
        "              nn[i, 0]=(i+1)%N\n",
        "              nn[i, 1]=(i+N-1)%N\n",
        "              nn[i, 2]=(i+L)%N\n",
        "              nn[i, 3]=(i+N-L)%N\n",
        "              if i%L==0: \n",
        "                    nn[i, 1]=i+L-1\n",
        "              if (i+1)%L==0:\n",
        "                    nn[i, 0]=i-L+1\n",
        "\n",
        "def permutation():\n",
        "        j=0\n",
        "        temp=0\n",
        "        for i in range(N):\n",
        "              order[i]=i\n",
        "              for i in range(N):\n",
        "                    j=int(i+(N-i)*random())\n",
        "                    temp=np.copy(order[i])\n",
        "                    order[i]=order[j]\n",
        "                    order[j]=temp\n",
        "\n",
        "def findroot(i):\n",
        "        k=j=i\n",
        "        while ptr[k]>0:\n",
        "            ptr[j]=np.copy(ptr[k])\n",
        "            j=k\n",
        "            k=ptr[k]\n",
        "        return k\n",
        "\n",
        "def percolate():\n",
        "        big=0\n",
        "        X=[]\n",
        "        Y=[]\n",
        "        for i in range(N): \n",
        "              ptr[i]=empty\n",
        "        for i in range(N):\n",
        "              r1=s1=np.copy(order[i])\n",
        "              ptr[s1]=-1    \n",
        "              for j in range(4):\n",
        "                    s2=np.copy(nn[s1, j])\n",
        "                    if ptr[s2] != empty:\n",
        "                          r2=findroot(s2)\n",
        "                          if (r2!=r1):\n",
        "                                if ptr[r1]>ptr[r2]:\n",
        "                                       ptr[r2]=ptr[r2]+ptr[r1]\n",
        "                                       ptr[r1]=r2\n",
        "                                       r1=np.copy(r2)\n",
        "                                else:\n",
        "                                       ptr[r1]=ptr[r1]+ptr[r2]\n",
        "                                       ptr[r2]=r1\n",
        "                                if -ptr[r1]>big: \n",
        "                                       big=-np.copy(ptr[r1])\n",
        "              X+=[(i+1.)/N, ]\n",
        "              Y+=[big, ]\n",
        "        plt.plot(X, Y, '-')\n",
        "        plt.xlabel(\"Percolation Probability\")\n",
        "        plt.ylabel(\"Size of the largest cluster\")\n",
        "        plt.title(\"N = 10^2\")\n",
        "        plt.show()\n",
        "\n",
        "boundaries()\n",
        "permutation()\n",
        "percolate()"
      ],
      "execution_count": 2,
      "outputs": [
        {
          "output_type": "display_data",
          "data": {
            "image/png": "[encoded data removed]",
            "text/plain": [
              "<Figure size 432x288 with 1 Axes>"
            ]
          },
          "metadata": {
            "tags": [],
            "needs_background": "light"
          }
        }
      ]
    }
  ]
}