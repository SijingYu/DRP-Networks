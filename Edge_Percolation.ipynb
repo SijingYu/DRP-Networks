{
  "nbformat": 4,
  "nbformat_minor": 0,
  "metadata": {
    "colab": {
      "name": "Edge_Percolation.ipynb",
      "provenance": []
    },
    "kernelspec": {
      "name": "python3",
      "display_name": "Python 3"
    }
  },
  "cells": [
    {
      "cell_type": "code",
      "metadata": {
        "id": "KsCJDqeluaIp",
        "colab_type": "code",
        "colab": {
          "base_uri": "https://localhost:8080/",
          "height": 35
        },
        "outputId": "b54b8c16-b07d-4757-bd87-ebb4adcd2551"
      },
      "source": [
        "#1. Start with an empty network with no occupied vertices. Let c = 0 be the number of clusters\n",
        "#in the network initially. Choose at random an order in which the vertices will be added to\n",
        "#the network.\n",
        "#2. Add the next vertex in the chosen order, initially with no edges. This vertex is a cluster in\n",
        "#its own right, so increase c by one and label the vertex with label c to indicate which cluster\n",
        "#it belongs to. Also make a note that cluster c has size 1.\n",
        "\n",
        "import random\n",
        "import math\n",
        "import matplotlib.pyplot as plt\n",
        "\n",
        "N = 10**4\n",
        "prob = 0.0002     #so the number of edges is prob*N^2/2\n",
        "edge_num = math.floor(prob*N*(N-1)/2)\n",
        "#orders = list(range(edge_num))\n",
        "#random.shuffle(orders)\n",
        "\n",
        "# initiate network\n",
        "unoccupied = set()\n",
        "occupied_nodes = set()\n",
        "ptrs = [-(1+N)]*N\n",
        "for i in range(edge_num):\n",
        "      node1 = random.randrange(N);\n",
        "      node2 = random.randrange(N);\n",
        "      if node1 != node2:\n",
        "          unoccupied.add((node1,node2))\n",
        "      else:\n",
        "          i =- 1\n",
        "\n",
        "print(\"Graph created\")\n",
        "#print(orders)\n",
        "#print(edge_num)\n",
        "#print(unoccupied)\n",
        "edge = random.sample(unoccupied,1)"
      ],
      "execution_count": 6,
      "outputs": [
        {
          "output_type": "stream",
          "text": [
            "Graph created\n"
          ],
          "name": "stdout"
        }
      ]
    },
    {
      "cell_type": "code",
      "metadata": {
        "id": "2snn5OXKug1F",
        "colab_type": "code",
        "colab": {
          "base_uri": "https://localhost:8080/",
          "height": 551
        },
        "outputId": "5039b8e2-f905-4c5d-f4bd-af9ab91a1a8b"
      },
      "source": [
        "X=[]\n",
        "Y=[]\n",
        "original_size = len(unoccupied)\n",
        "largest = 2\n",
        "\n",
        "def findRoot(i):\n",
        "    if ptrs[i] < 0 and ptrs[i] != -(N+1):     # if it is negative && added, then it's root\n",
        "          return i;\n",
        "    else:\n",
        "          ptrs[i] = findRoot(ptrs[i]);        # find root and assign root through the way\n",
        "          return ptrs[i]\n",
        "\n",
        "\n",
        "for i in range(original_size):\n",
        "      #print(i)\n",
        "      #print(ptrs)\n",
        "      if len(unoccupied) == 1:\n",
        "            edge = unoccupied.pop()\n",
        "            (fromm, to) = edge\n",
        "      else:\n",
        "            edge = random.sample(unoccupied,1)\n",
        "            [(fromm, to)] = edge\n",
        "            unoccupied.remove((fromm,to))\n",
        "      #print(\"edge\", str(edge))\n",
        "      #print(\"fromm\", str(fromm))\n",
        "      #print(\"to\", str(to))\n",
        "      #print(\"pointers\",str(ptrs))\n",
        "      if (to,fromm) in unoccupied:\n",
        "            unoccupied.remove((to,fromm))\n",
        "      if to != fromm:\n",
        "            if ptrs[fromm] == -(1+N):\n",
        "                  ptrs[fromm] = -1\n",
        "            if ptrs[to] == -(1+N):\n",
        "                  ptrs[to] = -1\n",
        "            fromm_root = findRoot(fromm)\n",
        "            #print(\"fromm_root\", str(fromm_root))\n",
        "            to_root = findRoot(to)\n",
        "            #print(\"to_root\", str(to_root))\n",
        "            if fromm_root != to_root:       \n",
        "                  fromm_size = ptrs[fromm_root]\n",
        "                  ptrs[to_root] += ptrs[fromm_root]\n",
        "                  ptrs[fromm_root] = to_root\n",
        "            #print(\"pointers\",str(ptrs))\n",
        "            if -ptrs[to_root] > largest:\n",
        "                largest = -ptrs[to_root]\n",
        "      #print(unoccupied)\n",
        "      X += [i,]\n",
        "      Y += [largest, ]\n",
        "      if len(unoccupied) == 0:\n",
        "            break\n",
        "\n",
        "#print(X)\n",
        "#print(Y)\n",
        "fig= plt.figure(figsize=(12,9))\n",
        "plt.plot(X, Y, '-')\n",
        "plt.xlabel(\"Step\")\n",
        "plt.ylabel(\"Size of the largest cluster\")\n",
        "#plt.title(\"N = 10^\")\n",
        "plt.show()\n"
      ],
      "execution_count": 7,
      "outputs": [
        {
          "output_type": "display_data",
          "data": {
            "image/png": "[encoded data removed]",
            "text/plain": [
              "<Figure size 864x648 with 1 Axes>"
            ]
          },
          "metadata": {
            "tags": [],
            "needs_background": "light"
          }
        }
      ]
    }
  ]
}